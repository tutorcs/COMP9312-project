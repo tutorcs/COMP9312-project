{
  "nbformat": 4,
  "nbformat_minor": 0,
  "metadata": {
    "colab": {
      "name": "Q1.ipynb",
      "provenance": [],
      "collapsed_sections": []
    },
    "kernelspec": {
      "name": "python3",
      "display_name": "Python 3"
    },
    "language_info": {
      "name": "python"
    },
    "gpuClass": "standard",
    "accelerator": "GPU"
  },
  "cells": [
    {
      "cell_type": "markdown",
      "source": [
        "#COMP9312_Project_Q1: Computing Shortest Distance\n"
      ],
      "metadata": {
        "id": "LsqyDbkMzFK4"
      }
    },
    {
      "cell_type": "markdown",
      "source": [
        "For details about the project, please refer to the [project specification](https://cgi.cse.unsw.edu.au/~cs9312/22T2/project/). You can edit this file and add anything you like. We will only use the code cell of `ShortestDistance` class for testing. Instead of creating a seperated PDF document, you can add descriptions and some theoretical analysis (e.g., index space, query time complexity, and indexing time complexity) in this file.\n",
        "\n",
        "\n",
        "**Note**: Make sure to **sequentially run all the cells in each section**, so that the intermediate variables / packages will carry over to the next cell."
      ],
      "metadata": {
        "id": "5r3WRZtH1GC9"
      }
    },
    {
      "cell_type": "markdown",
      "source": [
        "## 1. Code Template\n",
        "You need to implement the `ShortestDistance` class to support shortest distance queries for large graphs (e.g., hundreds of millions). A code templage is given below. \n",
        "\n",
        "The `ShortestDistance` class is initialized by a graph `G`. The data structure of `G` will be presented in the following section. The class calls the function `preprocess` to precompute some index structure for `G`. The `query` function has two inputs: `source_vertex` and `target_vertex`. The function outputs the shortest distance from `source_vertex` to `target_vertex` in `G`."
      ],
      "metadata": {
        "id": "scXgqZZR_G3L"
      }
    },
    {
      "cell_type": "code",
      "source": [
        "############################################################################\n",
        "# Add any modules you want to use here~\n",
        "############################################################################\n",
        "\n",
        "class ShortestDistance(object):\n",
        "    def __init__(self, G):\n",
        "        self.G = G\n",
        "        self.preprocess(G)\n",
        "        ############################################################################\n",
        "        # TODO: You may add some index data structure here~\n",
        "        # analyze the space usage of the index (all additional data structure)~\n",
        "        ############################################################################\n",
        "\n",
        "    def preprocess(self, G):\n",
        "        ############################################################################\n",
        "        # TODO: Your code here~ \n",
        "        # precompute any data structure for G and use that to speed up your query processing\n",
        "        # analyze the time complexity of preprocess()\n",
        "        ############################################################################\n",
        "        return \n",
        "\n",
        "    def query(self, source_vertex, target_vertex):\n",
        "        shortest_distance = 0\n",
        "        ############################################################################\n",
        "        # TODO: Your code here~\n",
        "        # Input: source_vertex, target_vertex\n",
        "        # Output: the shortest distance between source_vertex and target_vertex\n",
        "        # analyze the time complexity of query()\n",
        "        ############################################################################\n",
        "\n",
        "        return shortest_distance\n",
        "    \n",
        "    ############################################################################\n",
        "    # You can define any auxiliary functions~\n",
        "    ############################################################################"
      ],
      "metadata": {
        "id": "QkTJWeKGKLyd"
      },
      "execution_count": null,
      "outputs": []
    },
    {
      "cell_type": "markdown",
      "source": [
        "## 2. Graph Data Structure\n",
        "Below is the data stucture of the input graph `G` in the `ShortestDistance` class."
      ],
      "metadata": {
        "id": "P5QO20WBK4cC"
      }
    },
    {
      "cell_type": "code",
      "source": [
        "############################################################################\n",
        "# Do not edit this code cell.\n",
        "############################################################################\n",
        "\n",
        "class DirectedWeightedGraph(object):\n",
        "  def __init__(self, edge_list):\n",
        "      self.vertex_dict = {}\n",
        "      self.adj_list_in = []\n",
        "      self.adj_list_out = []\n",
        "      self.vertex_num = 0\n",
        "      for [src, dst, weight] in edge_list:\n",
        "          self.add_edge(src, dst, weight)\n",
        "\n",
        "  def add_vertex(self, name):\n",
        "      id = self.vertex_num\n",
        "      self.vertex_dict[name] = id\n",
        "      self.vertex_num += 1\n",
        "      self.adj_list_in.append(list())\n",
        "      self.adj_list_out.append(list())\n",
        "\n",
        "  def add_edge(self, vertex1, vertex2, weight):\n",
        "      if vertex1 not in self.vertex_dict.keys():\n",
        "          self.add_vertex(vertex1)\n",
        "      if vertex2 not in self.vertex_dict.keys():\n",
        "          self.add_vertex(vertex2)\n",
        "      self.adj_list_out[self.vertex_dict[vertex1]].append([vertex2, weight])\n",
        "      self.adj_list_in[self.vertex_dict[vertex2]].append([vertex1, weight])"
      ],
      "metadata": {
        "id": "dm0J3MV3J_f1"
      },
      "execution_count": null,
      "outputs": []
    },
    {
      "cell_type": "markdown",
      "source": [
        "## 3. How to test your code"
      ],
      "metadata": {
        "id": "pndqCjIHPgR4"
      }
    },
    {
      "cell_type": "markdown",
      "source": [
        "### 3.1 Download the sample dataset.\n",
        "\n",
        "Running the following command will create a folder COMP9312_datasets containing files about three datasets. **Cora** (2k vertices) is a real citation graph with an synthetic random weight for each edge. **map_BJ_part** (4k vertices) is a real road network for a small area of Beijing, and **map_NY_part** (7k vertices) is a real road network for a small area of New York. Each dataset has three files. For each dataset, ***.graph** includes all graph edges. ***.query** includes a set of shortest distance queries for testing. ***.answer** includes the answer for each query computed by us in the ***.query** file for your reference.\n",
        "\n",
        "If the dataset has already exists, there would be an error like \"*destination path 'COMP9312_datasets' already exists*\".\n",
        "\n",
        "**Note**: We will use different query datasets to test the algorithm."
      ],
      "metadata": {
        "id": "AUkHfISNJVQy"
      }
    },
    {
      "cell_type": "code",
      "source": [
        "!git clone https://github.com/guaiyoui/COMP9312_datasets.git"
      ],
      "metadata": {
        "colab": {
          "base_uri": "https://localhost:8080/"
        },
        "id": "WTFnVaSoCYSu",
        "outputId": "5b9c08ac-6b13-48a4-9a9e-c655cbdbe92e"
      },
      "execution_count": null,
      "outputs": [
        {
          "output_type": "stream",
          "name": "stdout",
          "text": [
            "Cloning into 'COMP9312_datasets'...\n",
            "remote: Enumerating objects: 11, done.\u001b[K\n",
            "remote: Counting objects: 100% (11/11), done.\u001b[K\n",
            "remote: Compressing objects: 100% (11/11), done.\u001b[K\n",
            "remote: Total 11 (delta 0), reused 11 (delta 0), pack-reused 0\u001b[K\n",
            "Unpacking objects: 100% (11/11), done.\n"
          ]
        }
      ]
    },
    {
      "cell_type": "markdown",
      "source": [
        "### 3.2 The main function\n",
        "\n",
        "Our test procedure first loads the graph dataset and the query dataset. Then it calls the `ShortestDistance` class to preprocess the graph. After that, it will run each query and test their efficiency and correctness. "
      ],
      "metadata": {
        "id": "uYFEswmCBQyR"
      }
    },
    {
      "cell_type": "code",
      "source": [
        "import time\n",
        "import numpy as np\n",
        "\n",
        "if __name__ == \"__main__\":\n",
        "\n",
        "    print('\\n##### Loading the dataset...')\n",
        "    # edge_list = np.loadtxt('./COMP9312_datasets/cora.graph', dtype=int)\n",
        "    # query_list = np.loadtxt('./COMP9312_datasets/cora.query', dtype=int)\n",
        "    edge_list = np.loadtxt('./COMP9312_datasets/map_BJ_part.graph', dtype=int)\n",
        "    query_list = np.loadtxt('./COMP9312_datasets/map_BJ_part.query', dtype=int)\n",
        "    # edge_list = np.loadtxt('./COMP9312_datasets/map_NY_part.graph', dtype=int)\n",
        "    # query_list = np.loadtxt('./COMP9312_datasets/map_NY_part.query', dtype=int)\n",
        "    G = DirectedWeightedGraph(edge_list)\n",
        "\n",
        "    print('\\n##### Start to preprocessing...')\n",
        "    start_preprocessing = time.time()\n",
        "    SD = ShortestDistance(G)\n",
        "    end_preprocessing = time.time()\n",
        "    print(\"preprocessing time: {}\".format(end_preprocessing-start_preprocessing))\n",
        "\n",
        "    print('\\n##### Test on the query ...')\n",
        "    start_query = time.time()\n",
        "    for i in range(query_list.shape[0]):\n",
        "      distance = SD.query(query_list[i][0], query_list[i][1])\n",
        "      print(\"the distance between {} and {} is: {}\".format(query_list[i][0], query_list[i][1], distance))\n",
        "    end_query = time.time()\n",
        "    print(\"average  query time: {}\".format((end_query-start_query)/query_list.shape[0]))"
      ],
      "metadata": {
        "id": "gyrG7Mx5Krmu",
        "colab": {
          "base_uri": "https://localhost:8080/"
        },
        "outputId": "9892b08f-5b53-42b8-d1c2-d6391d908c95"
      },
      "execution_count": null,
      "outputs": [
        {
          "output_type": "stream",
          "name": "stdout",
          "text": [
            "\n",
            "##### Loading the dataset...\n",
            "\n",
            "##### Start to preprocessing...\n",
            "preprocessing time: 1.0967254638671875e-05\n",
            "\n",
            "##### Test on the query ...\n",
            "the distance between 211102 and 9401219 is: 0\n",
            "the distance between 9907233 and 9311274 is: 0\n",
            "the distance between 9704296 and 9301203 is: 0\n",
            "the distance between 9903217 and 9301253 is: 0\n",
            "the distance between 9609341 and 9307247 is: 0\n",
            "the distance between 9605336 and 9405204 is: 0\n",
            "average  query time: 3.059705098470052e-05\n"
          ]
        }
      ]
    }
  ]
}